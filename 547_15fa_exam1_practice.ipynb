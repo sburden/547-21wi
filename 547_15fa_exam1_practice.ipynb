{
 "cells": [
  {
   "cell_type": "markdown",
   "metadata": {},
   "source": [
    "# Finite-dimensional linear transformations\n",
    "\n",
    "Let $L:\\mathbb{R}^n\\rightarrow\\mathbb{R}^n$ be linear.\n",
    "\n",
    "a. If $L$ is injective, prove that $L$ is surjective.\n",
    "\n",
    "b. If $L$ is surjective, prove that $L$ is injective.\n",
    "\n",
    "Now suppose the rangespace of $L$ is a subset of its nullspace.\n",
    "\n",
    "c. Compute $\\operatorname{spec} L$.\n",
    "\n",
    "d. Given any matrix representation $A_L\\in\\mathbb{R}^{n\\times n}$ of $L$, compute $\\det(sI - A_L)$."
   ]
  },
  {
   "cell_type": "markdown",
   "metadata": {},
   "source": [
    "# Matrix representations\n",
    "\n",
    "Let $L:U\\rightarrow U$ be linear and $\\dim U = n$.\n",
    "\n",
    "Suppose there exists $b\\in U$ such that the vectors in $B = \\{b, Lb, L^2b, \\dots, L^{n-1}b\\}$ are linearly independent.\n",
    "\n",
    "a. Obtain the matrix representation of $L$ with respect to the basis $B$.\n",
    "\n",
    "Suppose that $\\lambda\\in\\mathbb{C}$ and $V = \\{v_j\\}_{j=1}^n$ is a basis for $U$ such that $L v_1 = \\lambda v_1$ and $L v_k = \\lambda v_k + v_{k-1}$ for all $k\\in\\{2,\\dots,n\\}$.\n",
    "\n",
    "b. Obtain the matrix representation of $L$ with respect to the basis $V$.\n",
    "\n",
    "Suppose that $\\operatorname{rank} L = n$, so that there exists $\\Gamma:U\\rightarrow U$ such that $L\\circ \\Gamma = \\Gamma\\circ L = \\operatorname{id}$ where $\\operatorname{id}:U\\rightarrow U$ is the *identity operator* defined for all $u\\in U$ by $\\operatorname{id}(u) = u$.\n",
    "\n",
    "c. Show that, in any basis for $U$, the matrix representation of $L$ is the inverse of the matrix representation of $\\Gamma$.\n"
   ]
  },
  {
   "cell_type": "markdown",
   "metadata": {},
   "source": [
    "# Vector fields and their flows\n",
    "Let $\\phi:\\mathbb{R}\\times\\mathbb{R}^n\\rightarrow\\mathbb{R}^n$ be the flow for $\\dot{x} = f(x)$ where $f:\\mathbb{R}^n\\rightarrow\\mathbb{R}^n$.  Given $t\\in\\mathbb{R}$, let $\\phi_t:\\mathbb{R}^n\\rightarrow\\mathbb{R}^n$ be defined for all $x\\in\\mathbb{R}^n$ by $\\phi_t(x) = \\phi(t,x)$.\n",
    "\n",
    "a. If $f$ is linear, prove that $\\phi_t$ is linear.\n",
    "\n",
    "a. If $\\phi_t$ is linear, prove that $f$ is linear."
   ]
  },
  {
   "cell_type": "markdown",
   "metadata": {},
   "source": [
    "# Induced norm\n",
    "Given $t\\in\\mathbb{R}$, let $S_t:\\mathbb{R}^\\mathbb{R}\\rightarrow \\mathbb{R}$ be defined for all signals $x\\in\\mathbb{R}^\\mathbb{R}$ by $S_t(x) = x(t)$.\n",
    "\n",
    "Prove or provide a counterexample.\n",
    "\n",
    "a. $S_t$ is linear.\n",
    "\n",
    "b. The induced norm of $\\|S_t\\|$ is finite.  (Use $\\|x\\| = \\int_{-\\infty}^\\infty|x(s)| ds$ for signals $x\\in\\mathbb{R}^\\mathbb{R}$ and $|a|$ for scalars $a\\in\\mathbb{R}$.)"
   ]
  },
  {
   "cell_type": "markdown",
   "metadata": {},
   "source": [
    "# State transition matrix\n",
    "Suppose the differentiable function $P:\\mathbb{R}\\times\\mathbb{R}\\rightarrow\\mathbb{R}^{n\\times n}$ is such that $\\forall a,b,c\\in\\mathbb{R} : P(c,b)P(b,a) = P(c,a)$ and $P(a,a) = I$ (the $n\\times n$ identity matrix).\n",
    "\n",
    "a. Prove that $P(a,b)$ is invertible and $P(a,b)^{-1} = P(b,a)$ for all $(a,b)\\in \\mathbb{R}\\times\\mathbb{R}$.\n",
    "\n",
    "b. Write $D_b P(a,b)$ in terms of $P(a,b)$ and $D_a P(a,b)$."
   ]
  },
  {
   "cell_type": "markdown",
   "metadata": {},
   "source": [
    "# Linear time-varying systems\n",
    "Let $\\Phi:\\mathbb{R}\\times\\mathbb{R}\\rightarrow\\mathbb{R}^{n\\times n}$ be the state transition matrix and $\\phi:\\mathbb{R}\\times\\mathbb{R}^n\\rightarrow\\mathbb{R}^n$ be the flow for the (CLTV) system\n",
    "$$\\dot{x} = A(t) x.$$\n",
    "\n",
    "a. Given $(s,x)\\in\\mathbb{R}\\times\\mathbb{R}^n$, write $\\phi(s,x)$ in terms of $x$ and $\\Phi$.\n",
    "\n",
    "b. Is it possible to have $\\phi(s,x) = 0$ for $x \\ne 0$?\n",
    "\n",
    "Now let $\\tilde{\\Phi}:\\mathbb{R}\\times\\mathbb{R}\\rightarrow\\mathbb{R}^{n\\times n}$ be the state transition matrix and $\\tilde{\\phi}:\\mathbb{R}\\times\\mathbb{R}^n\\rightarrow\\mathbb{R}^n$ be the flow for the (CLTV) system\n",
    "$$\\dot{\\tilde{x}} = A(t) \\tilde{x} + \\phi(t,x).$$\n",
    "\n",
    "c. What is the relationship between $\\Phi$ and $\\tilde{\\Phi}$?\n",
    "\n",
    "d. Given $(s,x,\\tilde{x})\\in\\mathbb{R}\\times\\mathbb{R}^n\\times\\mathbb{R}^n$, write $\\tilde{\\phi}(s,\\tilde{x})$ in terms of $s$, $x$, $\\tilde{x}$, and $\\Phi$.\n",
    "\n",
    "e. Given $x\\ne 0$, determine $\\tilde{x} \\ne 0$ such that $\\tilde{\\phi}(s,\\tilde{x}) = 0$."
   ]
  }
 ],
 "metadata": {
  "kernelspec": {
   "display_name": "Python 2",
   "language": "python",
   "name": "python2"
  },
  "language_info": {
   "codemirror_mode": {
    "name": "ipython",
    "version": 2
   },
   "file_extension": ".py",
   "mimetype": "text/x-python",
   "name": "python",
   "nbconvert_exporter": "python",
   "pygments_lexer": "ipython2",
   "version": "2.7.10"
  }
 },
 "nbformat": 4,
 "nbformat_minor": 0
}
