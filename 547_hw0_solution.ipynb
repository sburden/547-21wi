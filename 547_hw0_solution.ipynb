{
 "cells": [
  {
   "cell_type": "markdown",
   "metadata": {
    "id": "gqyprtgkiL91"
   },
   "source": [
    "# HW0 due 5p Fri Jan 8 2020\n",
    "\n",
    "This assignment will be graded on participation; so long as you make an effort on each problem and upload a legible writeup to Canvas in .pdf and/or .ipynb format, you will receive full credit (1 point for each sub-problem).  However, you are responsible for reviewing the prerequisite material needed to understand and solve the self-assessment problems, since this material will be leveraged extensively in this class.\n",
    "\n",
    "Future assignments will be graded on both participation and correctness (1 point each, for a total of 2 points for each sub-problem).\n",
    "\n"
   ]
  },
  {
   "cell_type": "markdown",
   "metadata": {
    "id": "Tr-gQJehP7XT"
   },
   "source": [
    "## 2.1 mathematical language, logic, and proofs\n",
    "\n",
    "Textbook:  [Real mathematical analysis](http://link.springer.com/book/10.1007%2F978-3-319-17771-7) by Pugh.\n",
    "\n",
    "Given a set $X$, let\n",
    "$|X|\\in\\mathbb{N}\\cup\\{\\infty\\}$ denote the number of elements in $X$,\n",
    "and let\n",
    "$P(X) = \\{S : S\\subset X\\}$ denote the *power set* (i.e. \"the set of all subsets\") of $X$.\n",
    "\n",
    "a. If $|X| < \\infty$, compute $|P(X)|$.\n",
    "\n",
    "***Solution:***\n",
    "If $|X| < \\infty$ then $|P(x)| = 2^{|X|}$.  One way to see this is by identifying each subset $S\\subset X$ with a binary string of length $|X|$; there are $2^{|X|}$ such strings, and they are in one-to-one correspondence with the elements of $P(x)$.\n"
   ]
  },
  {
   "cell_type": "markdown",
   "metadata": {
    "id": "mQWCx5jgwWSD"
   },
   "source": [
    "b. Can there exist a surjective map $f : X \\rightarrow P(x)$?  (What if $X$ is infinite?)\n",
    "\n",
    "***Solution:***\n",
    "No -- see [Cantor's Theorem](https://en.wikipedia.org/wiki/Cantor%27s_theorem)."
   ]
  },
  {
   "cell_type": "markdown",
   "metadata": {
    "id": "xEEUI1jJw6xk"
   },
   "source": [
    "\n",
    "Now let $f:A\\rightarrow B$ be a function (not necessarily injective).  Recall that the **graph** of $f$ is the set defined by\n",
    "$$\\operatorname{graph}(f) = \\left\\{ (a,b)\\in A\\times B : b = f(a) \\right\\}.$$\n",
    "\n",
    "c. If you are given a subset $S\\subset A\\times B$, how can you tell if it is the graph of some function?  (That is, what are the set theoretic properties of a graph?)\n",
    "\n",
    "***Solution:***\n",
    "The graph of a function has one key property:  every element in $A$ is mapped to exactly one element in $B$ -- in terms of set theory / propositional logic:\n",
    "\n",
    "$$ \\forall a\\in A : \\exists! b \\in B : (a,b) \\in S. $$"
   ]
  },
  {
   "cell_type": "markdown",
   "metadata": {
    "id": "Qp3yV2GCxFpi"
   },
   "source": [
    "d. Let $h:B\\rightarrow C$ be a second function and consider the composition $h\\circ f : A\\rightarrow C$.  With $A = B = C = [0,1]\\subset\\mathbb{R}$, visualize $A\\times B\\times C\\subset\\mathbb{R}^3$ as the unit cube in 3--space.  Show how the graphs of $f$, $h$, and $h \\circ f$ can be represented on the faces of the cube, and annotate representative $a\\in A$, $b = f(a) \\in B$, $c = h(b) = h\\circ f(a)\\in C$.\n",
    "\n",
    "***Solution:***\n",
    "The graph of $f$ is a subset of the $A \\times B$ face, the graph of $h$ is a subset of the $B \\times C$ face, and the graph of $h\\circ f$ is a subset of the $A \\times C$ face -- for an example, refer to the lecture on the flow function $\\phi$."
   ]
  },
  {
   "cell_type": "markdown",
   "metadata": {
    "id": "izOprHcYUV0R"
   },
   "source": [
    "## 2.2 Calculus\n",
    "\n",
    "Textbooks:  [Calculus](https://ocw.mit.edu/resources/res-18-001-calculus-online-textbook-spring-2005/textbook/) (MIT OpenCourseWare) by Strang; [Real mathematical analysis](http://link.springer.com/book/10.1007%2F978-3-319-17771-7) by Pugh.\n",
    "\n",
    "a. If $f : \\mathbb{R} \\rightarrow \\mathbb{R}$, what is the geometric interpretation of the derivative of $f$?  Can you give a geometric interpretation for the derivative of $f : \\mathbb{R}^n \\rightarrow \\mathbb{R}$?  What about $f : \\mathbb{R}^n \\rightarrow \\mathbb{R}^m$?\n",
    "\n",
    "***Solution:***\n",
    "The derivative of $f : \\mathbb{R} \\rightarrow \\mathbb{R}$ specifies the slope of the line that is tangent to the graph of $f$.  The derivative of $f : \\mathbb{R}^n \\rightarrow \\mathbb{R}$ is a gradient (row) vector that is orthogonal to the graph of $f$.  The nullspace of the derivative of $f : \\mathbb{R}^n \\rightarrow \\mathbb{R}^m$ is the subspace that is tangent to the graph of $f$."
   ]
  },
  {
   "cell_type": "markdown",
   "metadata": {
    "id": "yl95s4NxyKZ7"
   },
   "source": [
    "\n",
    "Consider the function $f:\\mathbb{R}^2\\times\\mathbb{R}\\rightarrow\\mathbb{R}^2$ defined by\n",
    "$$ \\forall x = (q,\\dot{q})\\in\\mathbb{R}^2, u\\in\\mathbb{R} : f(x,u) = (\\dot{q},\\ddot{q}) $$\n",
    "where $m\\ddot{q} = -c \\dot{q} - k q + u$.  \n",
    "\n",
    "b. Determine the derivatives $D_x f(x,u)$, $D_u f(x,u)$.\n",
    "\n",
    "***Solution:***\n",
    "\n",
    "$$ D_x f(x,u) = \\left[\\begin{array}{} 0 & 1 \\\\ -k/m & -c/m \\end{array}\\right],\\ D_u f(x,u) = \\left[\\begin{array}{} 0 \\\\ -1/m \\end{array}\\right]. $$\n"
   ]
  },
  {
   "cell_type": "markdown",
   "metadata": {
    "id": "q1dED5UJyngC"
   },
   "source": [
    "c. Show that $f$ is linear:  $f(x,u) = D_x f(x,u)\\cdot x + D_u f(x,u)\\cdot u$ where $``\\cdot\"$ denotes matrix multiplication.\n",
    "\n",
    "***Solution:***\n",
    "Direct calculation confirms \n",
    "$$ \\forall x\\in\\mathbb{R}^2, u\\in\\mathbb{R} : f(x,u) = D_x f(x,u)\\cdot x + D_u f(x,u)\\cdot u, $$ \n",
    "i.e. $f$ is linear."
   ]
  },
  {
   "cell_type": "markdown",
   "metadata": {
    "id": "rMMreU0xRU9L"
   },
   "source": [
    "## 2.3 linear algebra\n",
    "\n",
    "Textbook:  [Introduction to Applied Linear Algebra](http://vmls-book.stanford.edu/) by Boyd and Vandenberghe; [Linear Algebra](http://joshua.smcvt.edu/linearalgebra/) by Hefferon\n",
    "\n",
    "a. If a matrix has zero as an eigenvalue, what can you conclude about its nullspace?\n",
    "\n",
    "***Solution:***\n",
    "The nullspace is nontrivial (i.e. contains a nonzero vector, namely, an eigenvector corresponding to the eigenvalue $0$).\n"
   ]
  },
  {
   "cell_type": "markdown",
   "metadata": {
    "id": "ljhQ2ysgzQP4"
   },
   "source": [
    "b. If a matrix is symmetric, what can you conclude about its eigenvalues?\n",
    "\n",
    "***Solution:***\n",
    "Eigenvalues of ***real*** symmetric matrices are real (i.e. have no imaginary part).  One way to see this:\n",
    "if $S = S^\\top \\in \\mathbb{R}^d$ and $v\\in\\mathbb{C}^d$ is a nonzero vector such that $S v = \\lambda v$ for some $\\lambda\\in\\mathbb{C}$ then \n",
    "$$ \\| Av \\|^2 = v^* A^\\top A v = \\lambda^2 \\| v \\|^2, $$\n",
    "hence $\\lambda^2 = \\| Av \\|^2 / \\| v \\|^2$ is a non-negative real number, so $\\lambda$ is real."
   ]
  },
  {
   "cell_type": "markdown",
   "metadata": {
    "id": "ljhQ2ysgzQP4"
   },
   "source": [
    "c. Given a set $S$, show that $\\mathcal{S} = \\{f:S\\rightarrow\\mathbb{F}\\}$ is a vector space over the field $\\mathbb{F}$.  (You need to define vector addition $+:\\mathcal{A}\\times\\mathcal{A}\\rightarrow\\mathcal{A}$ and scalar multiplication $\\cdot:\\mathbb{F}\\times\\mathcal{A}\\rightarrow\\mathcal{A}$ and show that they satisfy the commutative, associative, distributive, and zero element properties that define a vector space.)\n",
    "\n",
    "***Solution:***\n",
    "We define vector addition and scalar multiplication elementwise:\n",
    "$$ \\forall f_1,f_2\\in\\mathcal{S}, \\alpha\\in\\mathbb{F}, s\\in S : \\alpha\\cdot(f_1+f_2)(s) = \\alpha\\cdot f_1(s) + \\alpha\\cdot f_2(s); $$\n",
    "the commutative, associate, distributive, and zero element properties that define a vector space follow immediately from the field properties of $\\mathbb{F}$."
   ]
  },
  {
   "cell_type": "markdown",
   "metadata": {
    "id": "ljhQ2ysgzQP4"
   },
   "source": [
    "d. If $S = \\{(i,j) : i\\in\\{1,\\dots,m\\}, j\\in\\{1,\\dots,n\\}\\}$ and $\\mathbb{F} = \\mathbb{C}$, the space $\\mathcal{S}$ from the preceding problem should be familiar -- what space is it?\n",
    "\n",
    "***Solution:***\n",
    "$S$ is the set of $m\\times n$ matrices."
   ]
  },
  {
   "cell_type": "markdown",
   "metadata": {
    "id": "ljhQ2ysgzQP4"
   },
   "source": [
    "Let $V,W$ be vector spaces over the same field $\\mathbb{F}$.\n",
    "\n",
    "e. Show that the set $\\mathcal{L} = \\left\\{ L : V \\rightarrow W \\mid \\text{$L$ is linear} \\right\\}$ of linear maps from $V$ to $W$ is a vector space over the field $\\mathbb{F}$\n",
    "(You need to define vector addition $+:\\mathcal{L}\\times\\mathcal{L}\\rightarrow\\mathcal{L}$ and scalar multiplication $\\cdot:\\mathbb{F}\\times\\mathcal{L}\\rightarrow\\mathcal{L}$ and show that they satisfy the commutative, associative, distributive, and zero element properties that define a vector space.)\n",
    "\n",
    "***Solution:***\n",
    "We define vector addition and scalar multiplication elementwise:\n",
    "$$ \\forall L_1, L_2\\in \\mathcal{L}, v\\in V, \\alpha\\in\\mathbb{F} : \\alpha\\cdot(L_1 + L_2)(v) = \\alpha\\cdot L_1(v) + \\alpha\\cdot L_2(v);$$\n",
    "the commutative, associate, distributive, and zero element properties that define a vector space follow immediately from the vector space properties of $V$ and $W$ and linearity of $L_1$ and $L_2$."
   ]
  },
  {
   "cell_type": "markdown",
   "metadata": {
    "id": "TUQnb_Y2VUj3"
   },
   "source": [
    "## 2.4 scientific computing\n",
    "\n",
    "Resources:  [NumPy for Matlab users](http://mathesaurus.sourceforge.net/matlab-numpy.html); [Dive into Python](http://www.diveintopython3.net/); [NumPy Manual](https://docs.scipy.org/doc/numpy/reference/); [Colaboratory Notebook](https://colab.research.google.com/notebooks/welcome.ipynb)\n",
    "\n",
    "In the following problems, let \n",
    "$A = \\left[\\begin{array}{} 1 & 2 & 3 \\\\ 4 & 5 & 6 \\end{array}\\right]$,\n",
    "$b = \\left[\\begin{array}{} 7 \\\\ 8 \\end{array}\\right]$,\n",
    "$\\Omega = \\left[\\begin{array}{} 0 & -1 \\\\ 1 & 0 \\end{array}\\right]$."
   ]
  },
  {
   "cell_type": "code",
   "execution_count": 55,
   "metadata": {},
   "outputs": [],
   "source": [
    "import numpy as np\n",
    "from numpy import linalg as la\n",
    "\n",
    "A = np.array([[1,2,3],[4,5,6]])\n",
    "b = np.array([[7],[8]])\n",
    "O = np.array([[0,-1],[1,0]])"
   ]
  },
  {
   "cell_type": "markdown",
   "metadata": {
    "id": "TUQnb_Y2VUj3"
   },
   "source": [
    "a. Compute the rank of $A$, $b$, and $\\Omega$."
   ]
  },
  {
   "cell_type": "code",
   "execution_count": 56,
   "metadata": {},
   "outputs": [
    {
     "data": {
      "text/plain": [
       "2"
      ]
     },
     "execution_count": 56,
     "metadata": {},
     "output_type": "execute_result"
    }
   ],
   "source": [
    "la.matrix_rank(A)"
   ]
  },
  {
   "cell_type": "code",
   "execution_count": 57,
   "metadata": {},
   "outputs": [
    {
     "data": {
      "text/plain": [
       "1"
      ]
     },
     "execution_count": 57,
     "metadata": {},
     "output_type": "execute_result"
    }
   ],
   "source": [
    "la.matrix_rank(b)"
   ]
  },
  {
   "cell_type": "code",
   "execution_count": 58,
   "metadata": {},
   "outputs": [
    {
     "data": {
      "text/plain": [
       "2"
      ]
     },
     "execution_count": 58,
     "metadata": {},
     "output_type": "execute_result"
    }
   ],
   "source": [
    "la.matrix_rank(O)"
   ]
  },
  {
   "cell_type": "markdown",
   "metadata": {
    "id": "TUQnb_Y2VUj3"
   },
   "source": [
    "b. Compute the singular value decomposition (SVD) of $A$ and use it to solve the equation $A x = b$."
   ]
  },
  {
   "cell_type": "code",
   "execution_count": 68,
   "metadata": {},
   "outputs": [],
   "source": [
    "U,s,VH = la.svd(A)\n",
    "\n",
    "# confirm SVD output\n",
    "assert np.allclose(A, U @ np.diag(s) @ VH[:2])\n",
    "\n",
    "# solve for x\n",
    "x = VH[:2].T @ np.diag(1/s) @ U.T @ b\n",
    "\n",
    "# confirm solution\n",
    "assert np.allclose(b, A @ x)"
   ]
  },
  {
   "cell_type": "markdown",
   "metadata": {
    "id": "TUQnb_Y2VUj3"
   },
   "source": [
    "c. Compute the eigenvalues and eigenvectors of $\\Omega$."
   ]
  },
  {
   "cell_type": "code",
   "execution_count": 69,
   "metadata": {},
   "outputs": [],
   "source": [
    "e,V = la.eig(O)\n",
    "\n",
    "# confirm eig output\n",
    "assert np.allclose(e * V, O @ V)"
   ]
  },
  {
   "cell_type": "code",
   "execution_count": 63,
   "metadata": {},
   "outputs": [
    {
     "data": {
      "text/plain": [
       "array([0.+1.j, 0.-1.j])"
      ]
     },
     "execution_count": 63,
     "metadata": {},
     "output_type": "execute_result"
    }
   ],
   "source": [
    "# eigenvalues\n",
    "e"
   ]
  },
  {
   "cell_type": "code",
   "execution_count": 65,
   "metadata": {},
   "outputs": [
    {
     "data": {
      "text/plain": [
       "array([[0.70710678+0.j        , 0.70710678-0.j        ],\n",
       "       [0.        -0.70710678j, 0.        +0.70710678j]])"
      ]
     },
     "execution_count": 65,
     "metadata": {},
     "output_type": "execute_result"
    }
   ],
   "source": [
    "# eigenvectors\n",
    "V"
   ]
  },
  {
   "cell_type": "markdown",
   "metadata": {
    "id": "TUQnb_Y2VUj3"
   },
   "source": [
    "d. Compute the matrix exponential $e^{\\Omega t}$ for many values of $t$ and plot the curve $e^{\\Omega t} x$ for some $x \\neq 0$."
   ]
  },
  {
   "cell_type": "code",
   "execution_count": 92,
   "metadata": {},
   "outputs": [
    {
     "data": {
      "image/png": "[encoded data removed]",
      "text/plain": [
       "<Figure size 288x288 with 1 Axes>"
      ]
     },
     "metadata": {
      "needs_background": "light"
     },
     "output_type": "display_data"
    }
   ],
   "source": [
    "import pylab as plt\n",
    "from scipy import linalg as la\n",
    "\n",
    "T = np.linspace(0,2*np.pi)\n",
    "\n",
    "x = np.random.randn(2,1)\n",
    "\n",
    "xT = np.hstack([la.expm(O*t) @ x for t in T])\n",
    "\n",
    "plt.figure(figsize=(4,4))\n",
    "\n",
    "# curve\n",
    "plt.plot(xT[0],xT[1],'.-')\n",
    "\n",
    "# start and stop\n",
    "plt.plot(xT[0,0],xT[1,0],'go')\n",
    "plt.plot(xT[0,-1],xT[1,-1],'rx')\n",
    "\n",
    "plt.axis('equal')\n",
    "plt.tight_layout()"
   ]
  }
 ],
 "metadata": {
  "colab": {
   "collapsed_sections": [],
   "name": "547_hw0_solution.ipynb",
   "provenance": []
  },
  "kernelspec": {
   "display_name": "Python 3",
   "language": "python",
   "name": "python3"
  },
  "language_info": {
   "codemirror_mode": {
    "name": "ipython",
    "version": 3
   },
   "file_extension": ".py",
   "mimetype": "text/x-python",
   "name": "python",
   "nbconvert_exporter": "python",
   "pygments_lexer": "ipython3",
   "version": "3.6.8"
  }
 },
 "nbformat": 4,
 "nbformat_minor": 1
}
